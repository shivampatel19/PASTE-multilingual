{
 "cells": [
  {
   "cell_type": "code",
   "execution_count": null,
   "id": "bad58fb2",
   "metadata": {},
   "outputs": [],
   "source": [
    "import json"
   ]
  },
  {
   "cell_type": "code",
   "execution_count": null,
   "id": "5d04727a",
   "metadata": {},
   "outputs": [],
   "source": [
    "# Opening JSON file\n",
    "f = open('dev.json')"
   ]
  },
  {
   "cell_type": "code",
   "execution_count": null,
   "id": "4d9a187a",
   "metadata": {},
   "outputs": [],
   "source": [
    "# returns JSON object as\n",
    "# a dictionary\n",
    "data = json.load(f)"
   ]
  },
  {
   "cell_type": "code",
   "execution_count": null,
   "id": "cdab92ff",
   "metadata": {},
   "outputs": [],
   "source": [
    "num = 0\n",
    "for i in data:\n",
    "    print(num)\n",
    "    num = num + 1\n",
    "    print(i)\n",
    "    if not i['opinions']:\n",
    "        print(\"None\")\n",
    "        \n",
    "    print('\\n\\n')"
   ]
  },
  {
   "cell_type": "code",
   "execution_count": null,
   "id": "07cd5861",
   "metadata": {},
   "outputs": [],
   "source": []
  },
  {
   "cell_type": "code",
   "execution_count": null,
   "id": "3df35636",
   "metadata": {},
   "outputs": [],
   "source": []
  },
  {
   "cell_type": "code",
   "execution_count": null,
   "id": "e5c27545",
   "metadata": {},
   "outputs": [],
   "source": [
    "########################### MAIN CODE ######################################\n",
    "file_sent = open('dev.sent', 'w')\n",
    "file_tup = open('dev.tup', 'w')\n",
    "file_pointer = open('dev.pointer', 'w')\n",
    "bad_chars = ['.',',','/','\\\\',';',':','!','*','[',']','{','}','(',')','|','<','>','?','•']\n",
    "for i in data:\n",
    "    tup = \"\"\n",
    "    pointer = \"\"\n",
    "    #print(i['opinions'])\n",
    "    if i['opinions']:\n",
    "        num = 0\n",
    "        targ = 0\n",
    "        lt = 0\n",
    "        for q in i['opinions']:\n",
    "            if q['Target'][0]:\n",
    "                num = num + 1\n",
    "        lo = num\n",
    "        #print('lo = ' + str(lo))\n",
    "        #lo = len(i['opinions'])\n",
    "        test_string = i['text']\n",
    "        for p in bad_chars :\n",
    "            test_string = test_string.replace(p, '')\n",
    "        \n",
    "        while \"  \" in test_string: \n",
    "            test_string = test_string.replace(\"  \", \" \")\n",
    "    \n",
    "        #if i['opinions'][0]['Target'][0]:\n",
    "        print(test_string) \n",
    "        for j in i['opinions']:\n",
    "            if j['Target'][0]:\n",
    "                #num = num + 1\n",
    "                if targ==0:\n",
    "                    #print(num)\n",
    "                    #num = num + 1\n",
    "                    #print(i['text'])\n",
    "                    file_sent.write(i['text']+'\\n')\n",
    "                    targ = targ + 1\n",
    "        #print(j)\n",
    "                length1 = 0\n",
    "                length2 = 0\n",
    "                word1 = j['Target'][0][0]\n",
    "                word2 = j['Polar_expression'][0][0]\n",
    "                index1 = test_string.find(word1)\n",
    "                index2 = test_string.find(word2)\n",
    "                for k in range(index1):\n",
    "                    if test_string[k] == \" \":\n",
    "                        length1 = length1 + 1\n",
    "                for k in range(index2):\n",
    "                    if test_string[k] == \" \":\n",
    "                        length2 = length2 + 1\n",
    "                        \n",
    "                if (j['Polarity']=='Positive'):\n",
    "                    tup1 = j['Target'][0][0] + ' ; ' + j['Polar_expression'][0][0] + ' ; POS'\n",
    "                    pointer1 = str(length1) + ' ' + str(length1+len(word1.split())-1) + ' ' + str(length2) + ' ' + str(length2+len(word2.split())-1) + ' POS'\n",
    "                    #print(str(length) + ' ' + str(length+len(word.split())-1) + ' POS',end=\" \" )\n",
    "                    #print(j['Target'][0][0] + ' ; ' + j['Polar_expression'][0][0] + ' ; POS',end=\" \" )\n",
    "                    lt = lt+1\n",
    "                    #print('lt = ' + str(lt))\n",
    "                    if not lt == lo:\n",
    "                        #print(\"|\",end = \" \")\n",
    "                        tup = tup + tup1 + \" | \"\n",
    "                        pointer = pointer + pointer1 + \" | \"\n",
    "                    else :\n",
    "                        tup = tup + tup1\n",
    "                        pointer = pointer + pointer1\n",
    "                elif (j['Polarity']=='Negative'):\n",
    "                    tup1 = j['Target'][0][0] + ' ; ' + j['Polar_expression'][0][0] + ' ; NEG'\n",
    "                    pointer1 = str(length1) + ' ' + str(length1+len(word1.split())-1) + ' ' + str(length2) + ' ' + str(length2+len(word2.split())-1) +  ' NEG'\n",
    "                    #print(str(length) + ' ' + str(length+len(word.split())-1) + ' NEG',end=\" \" )\n",
    "                    #print(j['Target'][0][0] + ' ; ' + j['Polar_expression'][0][0] + ' ; NEG',end=\" \" )\n",
    "                    lt = lt+1\n",
    "                    #print('lt = ' + str(lt))\n",
    "                    if not lt == lo:\n",
    "                        #print(\"|\",end = \" \")\n",
    "                        tup = tup + tup1 + \" | \"\n",
    "                        pointer = pointer + pointer1 + \" | \"\n",
    "                    else :\n",
    "                        tup = tup + tup1\n",
    "                        pointer = pointer + pointer1\n",
    "        if not targ == 0:\n",
    "            file_tup.write(tup +'\\n')\n",
    "            file_pointer.write(pointer +'\\n')\n",
    "    #else:\n",
    "        #print('None')\n",
    "        \n",
    "    #print('\\n\\n')"
   ]
  }
 ],
 "metadata": {
  "kernelspec": {
   "display_name": "Python 3 (ipykernel)",
   "language": "python",
   "name": "python3"
  },
  "language_info": {
   "codemirror_mode": {
    "name": "ipython",
    "version": 3
   },
   "file_extension": ".py",
   "mimetype": "text/x-python",
   "name": "python",
   "nbconvert_exporter": "python",
   "pygments_lexer": "ipython3",
   "version": "3.8.8"
  }
 },
 "nbformat": 4,
 "nbformat_minor": 5
}
